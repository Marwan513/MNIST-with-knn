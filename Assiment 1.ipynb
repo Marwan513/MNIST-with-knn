{
 "cells": [
  {
   "cell_type": "markdown",
   "metadata": {},
   "source": [
    "# Import The Libraries"
   ]
  },
  {
   "cell_type": "code",
   "execution_count": 149,
   "metadata": {},
   "outputs": [],
   "source": [
    "import tensorflow as tf\n",
    "import numpy as np\n",
    "import pandas as pd\n",
    "from matplotlib import pyplot as plt\n",
    "from sklearn.neighbors import KNeighborsClassifier\n",
    "from sklearn.metrics import accuracy_score"
   ]
  },
  {
   "cell_type": "markdown",
   "metadata": {},
   "source": [
    "# Rearrange the data creating our train and test arrays"
   ]
  },
  {
   "cell_type": "code",
   "execution_count": 150,
   "metadata": {},
   "outputs": [
    {
     "data": {
      "text/plain": [
       "<module 'keras.api._v2.keras.datasets.mnist' from 'C:\\\\Users\\\\marwa\\\\AppData\\\\Local\\\\Programs\\\\Python\\\\Python310\\\\lib\\\\site-packages\\\\keras\\\\api\\\\_v2\\\\keras\\\\datasets\\\\mnist\\\\__init__.py'>"
      ]
     },
     "execution_count": 150,
     "metadata": {},
     "output_type": "execute_result"
    }
   ],
   "source": [
    "mnist = tf.keras.datasets.mnist\n",
    "mnist"
   ]
  },
  {
   "cell_type": "code",
   "execution_count": 151,
   "metadata": {},
   "outputs": [],
   "source": [
    "#load data\n",
    "(train_images, train_labels), (test_images, test_labels) = mnist.load_data()\n",
    "# train_images=train_images1[:10000,:]\n",
    "# train_labels=train_labels1[:10000]\n",
    "# test_images=test_images1[:1000,:]\n",
    "# test_labels=test_labels1[:1000]"
   ]
  },
  {
   "cell_type": "code",
   "execution_count": 152,
   "metadata": {},
   "outputs": [
    {
     "data": {
      "text/plain": [
       "((60000, 28, 28), numpy.ndarray, (10000, 28, 28), numpy.ndarray)"
      ]
     },
     "execution_count": 152,
     "metadata": {},
     "output_type": "execute_result"
    }
   ],
   "source": [
    "#checking the arrays\n",
    "train_images.shape , type(train_images) , test_images.shape , type(test_images)"
   ]
  },
  {
   "cell_type": "markdown",
   "metadata": {},
   "source": [
    "# Plotting numbers"
   ]
  },
  {
   "cell_type": "code",
   "execution_count": 153,
   "metadata": {},
   "outputs": [],
   "source": [
    "#function to plot the number\n",
    "def plot_img(mnist_index):\n",
    "    image = mnist_index\n",
    "    image = np.array(image, dtype='float')\n",
    "    pixels = image.reshape((28, 28))\n",
    "    plt.imshow(pixels, cmap='gray')\n",
    "    plt.show()"
   ]
  },
  {
   "cell_type": "code",
   "execution_count": 154,
   "metadata": {},
   "outputs": [
    {
     "data": {
      "image/png": "[encoded data removed]",
      "text/plain": [
       "<Figure size 432x288 with 1 Axes>"
      ]
     },
     "metadata": {
      "needs_background": "light"
     },
     "output_type": "display_data"
    },
    {
     "data": {
      "text/plain": [
       "3"
      ]
     },
     "execution_count": 154,
     "metadata": {},
     "output_type": "execute_result"
    }
   ],
   "source": [
    "#test the function\n",
    "plot_img(train_images[7878])\n",
    "train_labels[7878]"
   ]
  },
  {
   "cell_type": "code",
   "execution_count": 155,
   "metadata": {
    "scrolled": false
   },
   "outputs": [
    {
     "data": {
      "image/png": "[encoded data removed]",
      "text/plain": [
       "<Figure size 432x288 with 1 Axes>"
      ]
     },
     "metadata": {
      "needs_background": "light"
     },
     "output_type": "display_data"
    },
    {
     "data": {
      "text/plain": [
       "4"
      ]
     },
     "execution_count": 155,
     "metadata": {},
     "output_type": "execute_result"
    }
   ],
   "source": [
    "#test function\n",
    "plot_img(test_images[432])\n",
    "test_labels[432]"
   ]
  },
  {
   "cell_type": "markdown",
   "metadata": {},
   "source": [
    "# ReShaping image to small images"
   ]
  },
  {
   "cell_type": "code",
   "execution_count": 156,
   "metadata": {},
   "outputs": [],
   "source": [
    "# this function return same input but divided in nGrid Images each image with dimensions row * col (return image as bloks)\n",
    "def imaged_grid(img , row , col ):\n",
    "\n",
    "    x , y = img.shape\n",
    "    #check if the row and col is divisble by img shape\n",
    "    assert x % row == 0, \"{} rows is not evenly divisble by {}\".format(x, row)\n",
    "    assert y % col == 0, \"{} cols is not evenly divisble by {}\".format(y, col)\n",
    "    \n",
    "    return (img.reshape( x//row, row, -1, col).swapaxes(1,2).reshape(-1, row, col))"
   ]
  },
  {
   "cell_type": "code",
   "execution_count": 177,
   "metadata": {},
   "outputs": [
    {
     "name": "stdout",
     "output_type": "stream",
     "text": [
      "(8, 7, 14)\n"
     ]
    },
    {
     "data": {
      "text/plain": [
       "array([[[  0,   0,   0,   0,   0,   0,   0,   0,   0,   0,   0,   0,\n",
       "           0,   0],\n",
       "        [  0,   0,   0,   0,   0,   0,   0,   0,   0,   0,   0,   0,\n",
       "           0,   0],\n",
       "        [  0,   0,   0,   0,   0,   0,   0,   0,   0,   0,   0,   0,\n",
       "           0,   0],\n",
       "        [  0,   0,   0,   0,   0,   0,   0,   0,   0,   0,   0,   0,\n",
       "           0,   0],\n",
       "        [  0,   0,   0,   0,   0,   0,   0,   0,   0,   0,   0,   0,\n",
       "           0,   0],\n",
       "        [  0,   0,   0,   0,   0,   0,   0,   0,   0,   0, 238, 255,\n",
       "          26,   0],\n",
       "        [  0,   0,   0,   0,   0,   0,   0,   0,   0,   0, 237, 254,\n",
       "          26,   0]],\n",
       "\n",
       "       [[  0,   0,   0,   0,   0,   0,   0,   0,   0,   0,   0,   0,\n",
       "           0,   0],\n",
       "        [  0,   0,   0,   0,   0,   0,   0,   0,   0,   0,   0,   0,\n",
       "           0,   0],\n",
       "        [  0,   0,   0,   0,   0,   0,   0,   0,   0,   0,   0,   0,\n",
       "           0,   0],\n",
       "        [  0,   0,   0,   0,   0,   0,   0,   0,   0,   0,   0,   0,\n",
       "           0,   0],\n",
       "        [  0,   0,   0,   0,   0,   0,   0,   0,   0,   0,   0,   0,\n",
       "           0,   0],\n",
       "        [  0,   0,   0,   0,   0,   0,   0,   0,   0,   0,   0,   0,\n",
       "           0,   0],\n",
       "        [  0,   0,   0,   0,   0,   0,   0,   0,   0,   0,   0,   0,\n",
       "           0,   0]],\n",
       "\n",
       "       [[  0,   0,   0,   0,   0,   0,   0,   0,   0,   0, 237, 254,\n",
       "          26,   0],\n",
       "        [  0,   0,   0,   0,   0,   0,   0,   0,   0,   0, 237, 254,\n",
       "          26,   0],\n",
       "        [  0,   0,   0,   0,   0,   0,   0,   0,   0,   0, 237, 254,\n",
       "          26,   0],\n",
       "        [  0,   0,   0,   0,   0,   0,   0,   0,   0,  17, 241, 254,\n",
       "          26,   0],\n",
       "        [  0,   0,   0,   0,   0,   0,   0,   0,   0,  70, 254, 254,\n",
       "          26,   0],\n",
       "        [  0,   0,   0,   0,   0,   0,   0,   0,   0,  70, 254, 254,\n",
       "          26,   0],\n",
       "        [  0,   0,   0,   0,   0,   0,   0,   0,   0,  70, 254, 254,\n",
       "          26,   0]],\n",
       "\n",
       "       [[  0,   0,   0,   0,   0,   0,   0,   0,   0,   0,   0,   0,\n",
       "           0,   0],\n",
       "        [  0,   0,   0,   0,   0,   0,   0,   0,   0,   0,   0,   0,\n",
       "           0,   0],\n",
       "        [  0,   0,   0,   0,   0,   0,   0,   0,   0,   0,   0,   0,\n",
       "           0,   0],\n",
       "        [202, 106,   0,   0,   0,   0,   0,   0,   0,   0,   0,   0,\n",
       "           0,   0],\n",
       "        [220, 249,  39,   0,   0,   0,   0,   0,   0,   0,   0,   0,\n",
       "           0,   0],\n",
       "        [173, 254, 119,   0,   0,   0,   0,   0,   0,   0,   0,   0,\n",
       "           0,   0],\n",
       "        [ 60, 254, 203,   0,   0,   0,   0,   0,   0,   0,   0,   0,\n",
       "           0,   0]],\n",
       "\n",
       "       [[  0,   0,   0,   0,   0,   0,   0,   0,   0,  58, 251, 254,\n",
       "         171,  54],\n",
       "        [  0,   0,   0,   0,   0,   0,   0,   0,   0,   0, 237, 254,\n",
       "         254, 254],\n",
       "        [  0,   0,   0,   0,   0,   0,   0,   0,   0,   0,  96, 220,\n",
       "         254, 254],\n",
       "        [  0,   0,   0,   0,   0,   0,   0,   0,   0,   0,   0,  13,\n",
       "          71, 137],\n",
       "        [  0,   0,   0,   0,   0,   0,   0,   0,   0,   0,   0,   0,\n",
       "           0,   0],\n",
       "        [  0,   0,   0,   0,   0,   0,   0,   0,   0,   0,   0,   0,\n",
       "           0,   0],\n",
       "        [  0,   0,   0,   0,   0,   0,   0,   0,   0,   0,   0,   0,\n",
       "           0,   0]],\n",
       "\n",
       "       [[ 13, 221, 221,   8,   0,   0,   0,   0,   0,   0,   0,   0,\n",
       "           0,   0],\n",
       "        [217, 247, 254, 148, 126, 117,  39,  37,   0,   0,   0,   0,\n",
       "           0,   0],\n",
       "        [254, 254, 254, 254, 254, 254, 254, 250,  56,   0,   0,   0,\n",
       "           0,   0],\n",
       "        [153, 223, 249, 254, 254, 251, 223, 218,  37,   0,   0,   0,\n",
       "           0,   0],\n",
       "        [  0,   0, 173, 254,  96,  50,   0,   0,   0,   0,   0,   0,\n",
       "           0,   0],\n",
       "        [  0,   0,  89, 254,  96,   0,   0,   0,   0,   0,   0,   0,\n",
       "           0,   0],\n",
       "        [  0,   0,  39, 254, 225,   4,   0,   0,   0,   0,   0,   0,\n",
       "           0,   0]],\n",
       "\n",
       "       [[  0,   0,   0,   0,   0,   0,   0,   0,   0,   0,   0,   0,\n",
       "           0,   0],\n",
       "        [  0,   0,   0,   0,   0,   0,   0,   0,   0,   0,   0,   0,\n",
       "           0,   0],\n",
       "        [  0,   0,   0,   0,   0,   0,   0,   0,   0,   0,   0,   0,\n",
       "           0,   0],\n",
       "        [  0,   0,   0,   0,   0,   0,   0,   0,   0,   0,   0,   0,\n",
       "           0,   0],\n",
       "        [  0,   0,   0,   0,   0,   0,   0,   0,   0,   0,   0,   0,\n",
       "           0,   0],\n",
       "        [  0,   0,   0,   0,   0,   0,   0,   0,   0,   0,   0,   0,\n",
       "           0,   0],\n",
       "        [  0,   0,   0,   0,   0,   0,   0,   0,   0,   0,   0,   0,\n",
       "           0,   0]],\n",
       "\n",
       "       [[  0,   0,  37, 251, 254,  56,   0,   0,   0,   0,   0,   0,\n",
       "           0,   0],\n",
       "        [  0,   0,   0, 207, 254,  56,   0,   0,   0,   0,   0,   0,\n",
       "           0,   0],\n",
       "        [  0,   0,   0, 145, 254,  56,   0,   0,   0,   0,   0,   0,\n",
       "           0,   0],\n",
       "        [  0,   0,   0,  23, 226,  37,   0,   0,   0,   0,   0,   0,\n",
       "           0,   0],\n",
       "        [  0,   0,   0,   0,   0,   0,   0,   0,   0,   0,   0,   0,\n",
       "           0,   0],\n",
       "        [  0,   0,   0,   0,   0,   0,   0,   0,   0,   0,   0,   0,\n",
       "           0,   0],\n",
       "        [  0,   0,   0,   0,   0,   0,   0,   0,   0,   0,   0,   0,\n",
       "           0,   0]]], dtype=uint8)"
      ]
     },
     "execution_count": 177,
     "metadata": {},
     "output_type": "execute_result"
    }
   ],
   "source": [
    "#test function\n",
    "print(imaged_grid(test_images[432] , 7 , 14 ).shape)\n",
    "imaged_grid(test_images[432] , 7 , 14 )"
   ]
  },
  {
   "cell_type": "markdown",
   "metadata": {},
   "source": [
    "# Feature extraction by the centroid"
   ]
  },
  {
   "cell_type": "code",
   "execution_count": 158,
   "metadata": {},
   "outputs": [],
   "source": [
    "# return feature vector for current image \n",
    "def get_centroid(img):\n",
    "    feature_vector = []\n",
    "    #for loop on the grids\n",
    "    for grid in imaged_grid(img , 7 , 14 ) :\n",
    "        \n",
    "        Xc = 0 \n",
    "        Yc = 0 \n",
    "        sum = 0\n",
    "        #for loop in each grid\n",
    "        for index, x in np.ndenumerate(grid):\n",
    "          sum+= x \n",
    "          Xc += x * index[0]\n",
    "          Yc += x * index[1]\n",
    "        \n",
    "        if sum != 0 :\n",
    "          feature_vector.append( Xc/ sum )\n",
    "          feature_vector.append(Yc/ sum )\n",
    "        else :\n",
    "          #grid is empty\n",
    "          feature_vector.append(0)\n",
    "          feature_vector.append(0)\n",
    "    \n",
    "    return np.array(feature_vector)"
   ]
  },
  {
   "cell_type": "code",
   "execution_count": 159,
   "metadata": {},
   "outputs": [
    {
     "data": {
      "text/plain": [
       "array([ 5.49903475, 10.59169884,  0.        ,  0.        ,  3.13381184,\n",
       "       10.49089977,  4.67695583,  0.84353379,  1.16878531, 11.51129944,\n",
       "        2.60353535,  3.19023569,  0.        ,  0.        ,  1.23114224,\n",
       "        3.73329741])"
      ]
     },
     "execution_count": 159,
     "metadata": {},
     "output_type": "execute_result"
    }
   ],
   "source": [
    "#test function\n",
    "get_centroid(test_images[432])"
   ]
  },
  {
   "cell_type": "markdown",
   "metadata": {},
   "source": [
    "# Creating test and train features "
   ]
  },
  {
   "cell_type": "code",
   "execution_count": 160,
   "metadata": {
    "scrolled": true
   },
   "outputs": [],
   "source": [
    "#create train feature\n",
    "train_features = [get_centroid(img)  for img in train_images  ]"
   ]
  },
  {
   "cell_type": "code",
   "execution_count": 161,
   "metadata": {},
   "outputs": [],
   "source": [
    "train_features = np.array(train_features)"
   ]
  },
  {
   "cell_type": "code",
   "execution_count": 162,
   "metadata": {
    "scrolled": true
   },
   "outputs": [
    {
     "data": {
      "text/plain": [
       "array([[ 5.97229551, 11.6055409 ,  5.62568701,  4.63812554,  1.92178018,\n",
       "        11.10367498,  1.53328895,  1.93608522,  5.23522727, 12.36363636,\n",
       "         3.24870541,  2.6051496 ,  1.60348032,  8.98800473,  0.14285714,\n",
       "         0.60192616],\n",
       "       [ 6.        , 13.        ,  5.24409222,  2.81123919,  3.27941463,\n",
       "        10.83317073,  2.25928864,  4.4609282 ,  3.20426365,  7.8209702 ,\n",
       "         3.18791541,  4.52990937,  0.84754241,  9.92931709,  0.20055325,\n",
       "         0.63070539]])"
      ]
     },
     "execution_count": 162,
     "metadata": {},
     "output_type": "execute_result"
    }
   ],
   "source": [
    "train_features.shape\n",
    "train_features[:2]"
   ]
  },
  {
   "cell_type": "code",
   "execution_count": 163,
   "metadata": {},
   "outputs": [],
   "source": [
    "#create test feature\n",
    "test_features = [get_centroid(img)  for img in test_images  ]"
   ]
  },
  {
   "cell_type": "code",
   "execution_count": 164,
   "metadata": {},
   "outputs": [],
   "source": [
    "test_features = np.array(test_features)"
   ]
  },
  {
   "cell_type": "code",
   "execution_count": 165,
   "metadata": {},
   "outputs": [
    {
     "data": {
      "text/plain": [
       "array([[ 0.        ,  0.        ,  0.        ,  0.        ,  1.19443729,\n",
       "         9.54365182,  2.83908621,  3.84675671,  5.91555556, 12.98666667,\n",
       "         2.97017501,  2.05669214,  2.86841394, 11.92785734,  0.90693739,\n",
       "         0.1319797 ],\n",
       "       [ 4.56700508, 10.56903553,  4.56971064,  1.26719278,  3.72274798,\n",
       "        11.43778479,  1.95129284,  0.9305472 ,  3.31512801, 10.18355314,\n",
       "         5.79673221,  6.54721684,  0.31214149, 10.79636711,  0.30622132,\n",
       "         4.13895971]])"
      ]
     },
     "execution_count": 165,
     "metadata": {},
     "output_type": "execute_result"
    }
   ],
   "source": [
    "test_features.shape\n",
    "test_features[:2]"
   ]
  },
  {
   "cell_type": "markdown",
   "metadata": {},
   "source": [
    "# Classification algorithms \"KNN\" "
   ]
  },
  {
   "cell_type": "code",
   "execution_count": 178,
   "metadata": {},
   "outputs": [],
   "source": [
    "# function return predicted lablels to be compared with the test label\n",
    "def KNN(train_features, test_features, train_labels):\n",
    "    knn = KNeighborsClassifier(4)\n",
    "    knn.fit(train_features, train_labels)  # fit train data\n",
    "    prediction = knn.predict(test_features)  # test data\n",
    "    return prediction"
   ]
  },
  {
   "cell_type": "code",
   "execution_count": 179,
   "metadata": {
    "scrolled": true
   },
   "outputs": [],
   "source": [
    "Knn_prediction = KNN(train_features, test_features , train_labels )"
   ]
  },
  {
   "cell_type": "code",
   "execution_count": 180,
   "metadata": {},
   "outputs": [
    {
     "name": "stdout",
     "output_type": "stream",
     "text": [
      "Accuracy Score = 92.91 %\n"
     ]
    }
   ],
   "source": [
    "print(\"Accuracy Score =\", accuracy_score(test_labels, Knn_prediction) * 100, \"%\")"
   ]
  }
 ],
 "metadata": {
  "kernelspec": {
   "display_name": "Python 3",
   "language": "python",
   "name": "python3"
  },
  "language_info": {
   "codemirror_mode": {
    "name": "ipython",
    "version": 3
   },
   "file_extension": ".py",
   "mimetype": "text/x-python",
   "name": "python",
   "nbconvert_exporter": "python",
   "pygments_lexer": "ipython3",
   "version": "3.10.3"
  }
 },
 "nbformat": 4,
 "nbformat_minor": 4
}
